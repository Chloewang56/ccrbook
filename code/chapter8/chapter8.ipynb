{
 "cells": [
  {
   "cell_type": "markdown",
   "metadata": {},
   "source": [
    "# 第八章 计算广告"
   ]
  },
  {
   "cell_type": "markdown",
   "metadata": {},
   "source": [
    "## 使用Python软件安装munkres并实现匈牙利利算法"
   ]
  },
  {
   "cell_type": "markdown",
   "metadata": {},
   "source": [
    "我们介绍使用Python软件安装munkres包来实现匈牙利利算法,以帮助大家更直观地理解其意义。\n",
    "\n",
    "在使用之前,需要先使用pip安装munkres。\n",
    "\n",
    "> ￼pip install munkres\n"
   ]
  },
  {
   "cell_type": "markdown",
   "metadata": {},
   "source": [
    "首先,我们将主要使用其中的Munkres函数、print_matrix函数、make_cost_matrix。 \n",
    "\n",
    "在使用的过程中,我们首先导入这些函数。"
   ]
  },
  {
   "cell_type": "code",
   "execution_count": 1,
   "metadata": {
    "ExecuteTime": {
     "end_time": "2018-09-25T06:21:27.562215Z",
     "start_time": "2018-09-25T06:21:27.557610Z"
    }
   },
   "outputs": [],
   "source": [
    "from munkres import Munkres, make_cost_matrix, print_matrix"
   ]
  },
  {
   "cell_type": "markdown",
   "metadata": {},
   "source": [
    "然后,需要输入广告主估价的矩阵,并使用print_matrix打印出来。"
   ]
  },
  {
   "cell_type": "code",
   "execution_count": 2,
   "metadata": {
    "ExecuteTime": {
     "end_time": "2018-09-25T06:21:41.474403Z",
     "start_time": "2018-09-25T06:21:41.469136Z"
    }
   },
   "outputs": [
    {
     "name": "stdout",
     "output_type": "stream",
     "text": [
      "Profit Matrix\n",
      "[12,  4,  2]\n",
      "[ 8,  7,  6]\n",
      "[ 7,  5,  2]\n"
     ]
    }
   ],
   "source": [
    "matrix = [[12, 4, 2], \n",
    "          [8, 7, 6], \n",
    "          [7, 5, 2]]  \n",
    "\n",
    "print_matrix(matrix, msg='Profit Matrix') "
   ]
  },
  {
   "cell_type": "markdown",
   "metadata": {},
   "source": [
    "因为Munkres函数使用成本矩阵来计算,所以我们需要先将广告主估价的矩阵 matrix转化为成本矩阵cost_matrix。\n",
    "\n",
    "我们同样可以使用print_matrix函数将cost_matrix打印 出来。"
   ]
  },
  {
   "cell_type": "code",
   "execution_count": 3,
   "metadata": {
    "ExecuteTime": {
     "end_time": "2018-09-25T06:21:57.577230Z",
     "start_time": "2018-09-25T06:21:57.571587Z"
    }
   },
   "outputs": [
    {
     "name": "stdout",
     "output_type": "stream",
     "text": [
      "Cost Matrix\n",
      "[ 0,  8, 10]\n",
      "[ 4,  5,  6]\n",
      "[ 5,  7, 10]\n"
     ]
    }
   ],
   "source": [
    "cost_matrix=make_cost_matrix (matrix) \n",
    "\n",
    "print_matrix(cost_matrix, msg='Cost Matrix')"
   ]
  },
  {
   "cell_type": "markdown",
   "metadata": {},
   "source": [
    "最后,我们调用Munkres命令对成本矩阵进行计算,并输出计算的结果。Munkres采 用compute函数对成本矩阵进行计算,计算的结果为不同行不同列的N个数(N的数值等 于广告主的数量,此处N=3),它们的和是所有可能的组合中最大的。Munkres将返回 找到的这N个数所在的行和列。我们可以打印出来选中的这N个数值的行数、列数、取 值,最后打印出来这些数值的和。"
   ]
  },
  {
   "cell_type": "code",
   "execution_count": 5,
   "metadata": {
    "ExecuteTime": {
     "end_time": "2018-09-25T06:22:25.758040Z",
     "start_time": "2018-09-25T06:22:25.748938Z"
    }
   },
   "outputs": [
    {
     "name": "stdout",
     "output_type": "stream",
     "text": [
      "(0, 0) -> 12\n",
      "(1, 2) -> 6\n",
      "(2, 1) -> 5\n",
      "Total profit=23\n"
     ]
    }
   ],
   "source": [
    "m = Munkres()\n",
    "indexes = m.compute(cost_matrix)\n",
    "total = 0\n",
    "for row, column in indexes:\n",
    "    value = matrix [row] [column]\n",
    "    total += value\n",
    "    print ('(%d, %d) -> %d' % (row, column, value)) \n",
    "\n",
    "print ('Total profit=%d' % total)"
   ]
  },
  {
   "cell_type": "code",
   "execution_count": null,
   "metadata": {},
   "outputs": [],
   "source": []
  }
 ],
 "metadata": {
  "kernelspec": {
   "display_name": "Python [conda env:anaconda]",
   "language": "python",
   "name": "conda-env-anaconda-py"
  },
  "language_info": {
   "codemirror_mode": {
    "name": "ipython",
    "version": 3
   },
   "file_extension": ".py",
   "mimetype": "text/x-python",
   "name": "python",
   "nbconvert_exporter": "python",
   "pygments_lexer": "ipython3",
   "version": "3.5.4"
  },
  "toc": {
   "base_numbering": 1,
   "nav_menu": {},
   "number_sections": false,
   "sideBar": true,
   "skip_h1_title": false,
   "title_cell": "Table of Contents",
   "title_sidebar": "Contents",
   "toc_cell": false,
   "toc_position": {},
   "toc_section_display": true,
   "toc_window_display": false
  }
 },
 "nbformat": 4,
 "nbformat_minor": 2
}
